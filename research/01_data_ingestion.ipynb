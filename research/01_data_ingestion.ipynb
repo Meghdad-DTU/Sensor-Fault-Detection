{
 "cells": [
  {
   "cell_type": "code",
   "execution_count": 1,
   "metadata": {},
   "outputs": [
    {
     "data": {
      "text/plain": [
       "'/home/paladin/Downloads/Sensor-Fault-Detection'"
      ]
     },
     "execution_count": 1,
     "metadata": {},
     "output_type": "execute_result"
    }
   ],
   "source": [
    "import os\n",
    "os.chdir('../')\n",
    "%pwd"
   ]
  },
  {
   "cell_type": "code",
   "execution_count": 2,
   "metadata": {},
   "outputs": [],
   "source": [
    "from pathlib import Path\n",
    "from dataclasses import dataclass\n",
    "\n",
    "\n",
    "@dataclass(frozen=True)\n",
    "class DataIngestionConfig:\n",
    "    root_dir: Path\n",
    "    s3_bucket: str\n",
    "    s3_key: str\n",
    "    s3_secret_key: str\n",
    "    object_key: Path\n",
    "    local_data_file: Path\n",
    "    train_test_ratio: float\n",
    "    train_data_file: Path\n",
    "    test_data_file: Path\n",
    "    drop_columns: list"
   ]
  },
  {
   "cell_type": "code",
   "execution_count": 3,
   "metadata": {},
   "outputs": [],
   "source": [
    "from sensorFaultDetection.constants import *\n",
    "from sensorFaultDetection.utils import read_yaml, create_directories"
   ]
  },
  {
   "cell_type": "code",
   "execution_count": 4,
   "metadata": {},
   "outputs": [],
   "source": [
    "class ConfigurationManager:\n",
    "    def __init__(self,\n",
    "                 config_filepath=CONFIG_FILE_PATH,\n",
    "                 secret_filepath=SECRET_FILE_PATH,\n",
    "                 schema_filepath=SCHEMA_FILE_PATH,\n",
    "                 params_filepath=PARAMS_FILE_PATH,\n",
    "                 saved_modelpath=SAVED_MODEL_PATH,\n",
    "                 ):\n",
    "       \n",
    "        self.config = read_yaml(config_filepath)\n",
    "        self.secret = read_yaml(secret_filepath)\n",
    "        self.schema = read_yaml(schema_filepath)\n",
    "        self.params = read_yaml(params_filepath)\n",
    "        self.saved_modelpath = saved_modelpath\n",
    "        \n",
    "        create_directories([self.config.artifacts_root])\n",
    "\n",
    "    def get_data_ingestion_config(self) -> DataIngestionConfig:\n",
    "        config = self.config.data_ingestion\n",
    "        secret = self.secret.aws_credential\n",
    "\n",
    "        create_directories([config.ROOT_DIR])\n",
    "\n",
    "        data_ingestion_config = DataIngestionConfig(\n",
    "            root_dir= config.ROOT_DIR,\n",
    "            s3_bucket= secret.S3_BUCKET,\n",
    "            s3_key= secret.S3_KEY,\n",
    "            s3_secret_key= secret.S3_SECRET_KEY,\n",
    "            object_key= secret.OBJECT_KEY,\n",
    "            local_data_file= config.LOCAL_DATA_FILE,\n",
    "            train_test_ratio= self.params.TRAIN_TEST_RATIO,\n",
    "            train_data_file= config.TRAIN_DATA_FILE,\n",
    "            test_data_file= config.TEST_DATA_FILE,\n",
    "            drop_columns= self.schema.drop_columns\n",
    "\n",
    "        )\n",
    "        \n",
    "\n",
    "        return data_ingestion_config"
   ]
  },
  {
   "cell_type": "code",
   "execution_count": 5,
   "metadata": {},
   "outputs": [],
   "source": [
    "import numpy as np\n",
    "import os\n",
    "import pandas as pd\n",
    "from io import StringIO\n",
    "import boto3\n",
    "from sensorFaultDetection.utils import get_size\n",
    "from sensorFaultDetection.logger import logging\n",
    "from sklearn.model_selection import train_test_split"
   ]
  },
  {
   "cell_type": "code",
   "execution_count": 6,
   "metadata": {},
   "outputs": [],
   "source": [
    "class DataIngestion:\n",
    "    def __init__(self, config: DataIngestionConfig):\n",
    "        self.config = config\n",
    "        self.client = boto3.client('s3',\n",
    "                      aws_access_key_id=self.config.s3_key,\n",
    "                      aws_secret_access_key=self.config.s3_secret_key\n",
    "                      )\n",
    "\n",
    "\n",
    "    def dowload_file(self):\n",
    "        if not os.path.exists(self.config.local_data_file):\n",
    "            csv_obj = self.client.get_object(Bucket=self.config.s3_bucket, Key=self.config.object_key)\n",
    "            body = csv_obj['Body']\n",
    "            csv_string = body.read().decode('utf-8')\n",
    "            df = pd.read_csv(StringIO(csv_string))\n",
    "            \n",
    "            if \"_id\" in list(df):\n",
    "                df = df.drop('_id', axis=1)\n",
    "            df.replace({'na': np.nan}, inplace=True)\n",
    "            df.drop(columns= self.config.drop_columns, axis=1, inplace=True)\n",
    "\n",
    "            df.to_csv(self.config.local_data_file, index=False, header=True)\n",
    "            logging.info(f'{self.config.local_data_file} is downloaded!') \n",
    "            self.df = df             \n",
    "\n",
    "        else:\n",
    "            logging.info(f\"File already exists of size : {get_size(Path(self.config.local_data_file))}\")\n",
    "\n",
    "    def train_test_creation(self):\n",
    "        df = pd.read_csv(self.config.local_data_file)\n",
    "        target_feature  = 'class'\n",
    "        y = df[target_feature]\n",
    "        X = df.drop(target_feature, axis=1)\n",
    "        \n",
    "        X_train, X_test, y_train, y_test = train_test_split(X, y, test_size=self.config.train_test_ratio, shuffle=True)\n",
    "        X_train[target_feature] = y_train\n",
    "        X_test[target_feature] = y_test\n",
    "\n",
    "        # shift column target_feature to first position\n",
    "        first_column_train = X_train.pop(target_feature) \n",
    "        first_column_test = X_test.pop(target_feature)   \n",
    "        # insert column using insert(position,column_name,first_column) function\n",
    "        X_train.insert(0, target_feature, first_column_train)\n",
    "        X_test.insert(0, target_feature, first_column_test)\n",
    "\n",
    "        X_train.to_csv(self.config.train_data_file, index=False, header=True)\n",
    "        logging.info(f'Train data is created and saved at {self.config.train_data_file}!')   \n",
    "        X_test.to_csv(self.config.test_data_file, index=False, header=True)\n",
    "        logging.info(f'Test data is created and saved at {self.config.test_data_file}!')   "
   ]
  },
  {
   "cell_type": "code",
   "execution_count": 7,
   "metadata": {},
   "outputs": [],
   "source": [
    "import sys\n",
    "from sensorFaultDetection.exception import CustomException"
   ]
  },
  {
   "cell_type": "code",
   "execution_count": 8,
   "metadata": {},
   "outputs": [],
   "source": [
    "try:\n",
    "    config = ConfigurationManager()\n",
    "    data_ingestion_config = config.get_data_ingestion_config()\n",
    "    data_ingestion = DataIngestion(config=data_ingestion_config)\n",
    "    data_ingestion.dowload_file()\n",
    "    data_ingestion.train_test_creation()\n",
    "except Exception as e:\n",
    "    CustomException(e, sys)"
   ]
  }
 ],
 "metadata": {
  "kernelspec": {
   "display_name": "venv",
   "language": "python",
   "name": "python3"
  },
  "language_info": {
   "codemirror_mode": {
    "name": "ipython",
    "version": 3
   },
   "file_extension": ".py",
   "mimetype": "text/x-python",
   "name": "python",
   "nbconvert_exporter": "python",
   "pygments_lexer": "ipython3",
   "version": "3.8.6"
  },
  "orig_nbformat": 4
 },
 "nbformat": 4,
 "nbformat_minor": 2
}
