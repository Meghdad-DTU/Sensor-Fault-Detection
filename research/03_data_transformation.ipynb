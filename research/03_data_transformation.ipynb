{
 "cells": [
  {
   "cell_type": "code",
   "execution_count": 1,
   "metadata": {},
   "outputs": [
    {
     "data": {
      "text/plain": [
       "'/home/paladin/Downloads/Sensor-Fault-Detection'"
      ]
     },
     "execution_count": 1,
     "metadata": {},
     "output_type": "execute_result"
    }
   ],
   "source": [
    "import os\n",
    "os.chdir('../')\n",
    "%pwd"
   ]
  },
  {
   "cell_type": "code",
   "execution_count": 2,
   "metadata": {},
   "outputs": [],
   "source": [
    "from dataclasses import dataclass\n",
    "from pathlib import Path\n",
    "\n",
    "@dataclass(frozen= True)\n",
    "class DataTransformationConfig:\n",
    "    root_dir: Path  \n",
    "    train_data_file: Path\n",
    "    test_data_file: Path   \n",
    "    numerical_columns: Path\n",
    "    drop_columns: Path\n",
    "    preprocessor_file: Path"
   ]
  },
  {
   "cell_type": "code",
   "execution_count": 3,
   "metadata": {},
   "outputs": [],
   "source": [
    "from sensorFaultDetection.constants import *\n",
    "from sensorFaultDetection.utils import read_yaml, create_directories"
   ]
  },
  {
   "cell_type": "code",
   "execution_count": 4,
   "metadata": {},
   "outputs": [],
   "source": [
    "class ConfigurationManager:\n",
    "    def __init__(self,\n",
    "                 config_filepath=CONFIG_FILE_PATH,\n",
    "                 secret_filepath=SECRET_FILE_PATH,\n",
    "                 schema_filepath=SCHEMA_FILE_PATH,\n",
    "                 params_filepath=PARAMS_FILE_PATH\n",
    "                 ):\n",
    "       \n",
    "        self.config = read_yaml(config_filepath)\n",
    "        self.secret = read_yaml(secret_filepath)\n",
    "        self.schema = read_yaml(schema_filepath)\n",
    "        self.params = read_yaml(params_filepath)\n",
    "\n",
    "        create_directories([self.config.artifacts_root])\n",
    "\n",
    "    def get_data_transformation_config(self) -> DataTransformationConfig:\n",
    "        config = self.config.data_transformation        \n",
    "\n",
    "        create_directories([config.ROOT_DIR])\n",
    "\n",
    "        data_transformation_config = DataTransformationConfig(\n",
    "            root_dir= config.ROOT_DIR,    \n",
    "            train_data_file= self.config.data_ingestion.TRAIN_DATA_FILE,\n",
    "            test_data_file= self.config.data_ingestion.TEST_DATA_FILE,            \n",
    "            numerical_columns= self.schema.numerical_columns,\n",
    "            drop_columns= self.schema.drop_columns,\n",
    "            preprocessor_file= config.PREPROCESSOR_FILE\n",
    "\n",
    "        )\n",
    "\n",
    "\n",
    "        return data_transformation_config"
   ]
  },
  {
   "cell_type": "code",
   "execution_count": 5,
   "metadata": {},
   "outputs": [],
   "source": [
    "import pandas as pd\n",
    "import numpy as np\n",
    "from sensorFaultDetection.utils import save_pickle\n",
    "from sensorFaultDetection.logger import logging\n",
    "from box import ConfigBox \n",
    "from sklearn.preprocessing import StandardScaler\n",
    "from sklearn.pipeline import Pipeline\n",
    "from sklearn.impute import SimpleImputer\n",
    "\n",
    "from sklearn.compose import ColumnTransformer, make_column_selector"
   ]
  },
  {
   "cell_type": "code",
   "execution_count": 6,
   "metadata": {},
   "outputs": [],
   "source": [
    "class DataTransformation:\n",
    "    def __init__(self, config: DataTransformationConfig):\n",
    "        self.config = config\n",
    "\n",
    "\n",
    "    def get_data_transformer_object(self):\n",
    "       \n",
    "        pipeline = Pipeline(\n",
    "            steps=[                          \n",
    "                ('imputer', SimpleImputer(missing_values=np.nan, strategy='mean')),\n",
    "                ('scaler', StandardScaler())]\n",
    "                )     \n",
    "\n",
    "        logging.info(f'Data transformer pipeline is created!')\n",
    "        \n",
    "        return pipeline\n",
    "    \n",
    "    def initiate_data_transformation(self):\n",
    "        train_df = pd.read_csv(self.config.train_data_file)\n",
    "        train_df.drop(columns=self.config.drop_columns, axis=1, inplace=True)\n",
    "\n",
    "        test_df = pd.read_csv(self.config.test_data_file)\n",
    "        test_df.drop(columns=self.config.drop_columns, axis=1, inplace=True)\n",
    "\n",
    "        target_feature  = 'class'\n",
    "        y_train = train_df[target_feature]\n",
    "        X_train = train_df[self.config.numerical_columns]\n",
    "\n",
    "        y_test = test_df[target_feature]\n",
    "        X_test = test_df[self.config.numerical_columns]    \n",
    "        \n",
    "\n",
    "        logging.info(f\"Applying preprocessing object on both train and test dataframes\")\n",
    "        preprocessing_obj = self.get_data_transformer_object()\n",
    "        \n",
    "        X_train_arr = preprocessing_obj.fit_transform(X_train)       \n",
    "        X_test_arr = preprocessing_obj.transform(X_test)        \n",
    "                        \n",
    "        save_pickle(path= self.config.preprocessor_file, obj= preprocessing_obj)\n",
    "\n",
    "        return ConfigBox({'X_train': X_train_arr,\n",
    "                          'X_test': X_test_arr,\n",
    "                          'y_train': y_train.values,\n",
    "                          'y_test': y_test.values})  "
   ]
  },
  {
   "cell_type": "code",
   "execution_count": 7,
   "metadata": {},
   "outputs": [],
   "source": [
    "import sys\n",
    "from sensorFaultDetection.exception import CustomException"
   ]
  },
  {
   "cell_type": "code",
   "execution_count": 8,
   "metadata": {},
   "outputs": [],
   "source": [
    "try:\n",
    "    config = ConfigurationManager()\n",
    "    data_transformation_config = config.get_data_transformation_config()\n",
    "    data_transformation = DataTransformation(config=data_transformation_config)\n",
    "    transformed_data = data_transformation.initiate_data_transformation()    \n",
    "except Exception as e:\n",
    "    CustomException(e, sys)"
   ]
  },
  {
   "cell_type": "code",
   "execution_count": 9,
   "metadata": {},
   "outputs": [
    {
     "data": {
      "text/plain": [
       "array(['neg', 'neg', 'neg', ..., 'neg', 'neg', 'neg'], dtype=object)"
      ]
     },
     "execution_count": 9,
     "metadata": {},
     "output_type": "execute_result"
    }
   ],
   "source": [
    "transformed_data.y_test\n"
   ]
  }
 ],
 "metadata": {
  "kernelspec": {
   "display_name": "venv",
   "language": "python",
   "name": "python3"
  },
  "language_info": {
   "codemirror_mode": {
    "name": "ipython",
    "version": 3
   },
   "file_extension": ".py",
   "mimetype": "text/x-python",
   "name": "python",
   "nbconvert_exporter": "python",
   "pygments_lexer": "ipython3",
   "version": "3.8.6"
  },
  "orig_nbformat": 4
 },
 "nbformat": 4,
 "nbformat_minor": 2
}
