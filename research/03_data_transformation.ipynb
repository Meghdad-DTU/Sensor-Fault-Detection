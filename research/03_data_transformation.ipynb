{
 "cells": [
  {
   "cell_type": "code",
   "execution_count": 1,
   "metadata": {},
   "outputs": [
    {
     "data": {
      "text/plain": [
       "'/home/paladin/Downloads/Sensor-Fault-Detection'"
      ]
     },
     "execution_count": 1,
     "metadata": {},
     "output_type": "execute_result"
    }
   ],
   "source": [
    "import os\n",
    "os.chdir('../')\n",
    "%pwd"
   ]
  },
  {
   "cell_type": "code",
   "execution_count": 2,
   "metadata": {},
   "outputs": [],
   "source": [
    "from dataclasses import dataclass\n",
    "from pathlib import Path\n",
    "\n",
    "@dataclass(frozen= True)\n",
    "class DataTransformationConfig:\n",
    "    root_dir: Path  \n",
    "    train_data_file: Path\n",
    "    test_data_file: Path  \n",
    "    train_npy_file : Path\n",
    "    test_npy_file: Path \n",
    "    target_column: str \n",
    "    preprocessor_file: Path"
   ]
  },
  {
   "cell_type": "code",
   "execution_count": 3,
   "metadata": {},
   "outputs": [],
   "source": [
    "from sensorFaultDetection.constants import *\n",
    "from sensorFaultDetection.utils import read_yaml, create_directories"
   ]
  },
  {
   "cell_type": "code",
   "execution_count": 4,
   "metadata": {},
   "outputs": [],
   "source": [
    "class ConfigurationManager:\n",
    "    def __init__(self,\n",
    "                 config_filepath=CONFIG_FILE_PATH,\n",
    "                 secret_filepath=SECRET_FILE_PATH,\n",
    "                 schema_filepath=SCHEMA_FILE_PATH,\n",
    "                 params_filepath=PARAMS_FILE_PATH\n",
    "                 ):\n",
    "       \n",
    "        self.config = read_yaml(config_filepath)\n",
    "        self.secret = read_yaml(secret_filepath)\n",
    "        self.schema = read_yaml(schema_filepath)\n",
    "        self.params = read_yaml(params_filepath)\n",
    "\n",
    "        create_directories([self.config.artifacts_root])\n",
    "\n",
    "    def get_data_transformation_config(self) -> DataTransformationConfig:\n",
    "        config = self.config.data_transformation        \n",
    "\n",
    "        create_directories([config.ROOT_DIR])\n",
    "\n",
    "        data_transformation_config = DataTransformationConfig(\n",
    "            root_dir= config.ROOT_DIR,    \n",
    "            train_data_file= self.config.data_validation.VALID_TRAIN_FILE,\n",
    "            test_data_file= self.config.data_validation.VALID_TEST_FILE, \n",
    "            train_npy_file = config.TRAIN_NPY_FILE,\n",
    "            test_npy_file= config.TEST_NPY_FILE,\n",
    "            target_column= self.params.TARGET_COLUMN,                       \n",
    "            preprocessor_file= config.PREPROCESSOR_FILE\n",
    "\n",
    "        )\n",
    "\n",
    "        return data_transformation_config"
   ]
  },
  {
   "cell_type": "code",
   "execution_count": 5,
   "metadata": {},
   "outputs": [],
   "source": [
    "import sys\n",
    "import pandas as pd\n",
    "import numpy as np\n",
    "from sensorFaultDetection.utils import save_pickle, save_numpy_array\n",
    "from sensorFaultDetection.logger import logging\n",
    "from sklearn.preprocessing import RobustScaler\n",
    "from imblearn.combine import SMOTETomek\n",
    "from sklearn.pipeline import Pipeline\n",
    "from sklearn.impute import SimpleImputer\n",
    "from sensorFaultDetection.exception import CustomException\n"
   ]
  },
  {
   "cell_type": "code",
   "execution_count": 6,
   "metadata": {},
   "outputs": [],
   "source": [
    "\n",
    "class TargetValueMapping:\n",
    "    def __init__(self):\n",
    "        self.neg: int = 0\n",
    "        self.pos: int = 1\n",
    "\n",
    "    def to_dict(self):\n",
    "        return self.__dict__\n",
    "\n",
    "    def reverse_mapping(self):\n",
    "        mapping_response = self.to_dict()\n",
    "\n",
    "        return dict(zip(mapping_response.values(), mapping_response.keys()))\n",
    "\n",
    "class DataTransformation:\n",
    "    def __init__(self, config: DataTransformationConfig):\n",
    "        self.config = config       \n",
    "\n",
    "    @staticmethod\n",
    "    def read_data(file_path) -> pd.DataFrame:\n",
    "        try:\n",
    "            return pd.read_csv(file_path)\n",
    "        except Exception as e:\n",
    "            raise CustomException(e, sys)\n",
    "    \n",
    "    @classmethod\n",
    "    def get_data_transformer_object(cls) -> Pipeline:\n",
    "        try:       \n",
    "            pipeline = Pipeline(\n",
    "                steps=[                          \n",
    "                    ('Imputer', SimpleImputer(strategy='constant', fill_value=0)), # replace missing values with zero\n",
    "                    ('RobustScaler', RobustScaler())] # keep every feature in same range and handle ouliers\n",
    "                    )     \n",
    "\n",
    "            logging.info(f'Data transformer pipeline is created!')        \n",
    "            return pipeline\n",
    "        \n",
    "        except Exception as e:\n",
    "            raise CustomException(e, sys)\n",
    "    \n",
    "    def initiate_data_transformation(self):\n",
    "        try:\n",
    "            train_df = self.read_data(self.config.train_data_file)\n",
    "            logging.info(f\"Train data is read from {self.config.train_data_file}!\")\n",
    "            test_df = self.read_data(self.config.test_data_file)        \n",
    "            logging.info(f\"Test data is read from {self.config.test_data_file}!\")             \n",
    "            \n",
    "            # train dataset\n",
    "            input_feature_train_df = train_df.drop(columns=self.config.target_column, axis=1)\n",
    "            target_feature_train_df = train_df[self.config.target_column]\n",
    "            target_feature_train_df = target_feature_train_df.replace(TargetValueMapping().to_dict())\n",
    "            \n",
    "            # test dataset\n",
    "            input_feature_test_df = test_df.drop(columns=self.config.target_column, axis=1)\n",
    "            target_feature_test_df = test_df[self.config.target_column]\n",
    "            target_feature_test_df = target_feature_test_df.replace(TargetValueMapping().to_dict())              \n",
    "\n",
    "            logging.info(f\"Applying preprocessing object on both train and test dataframes\")\n",
    "            preprocessor_obj = self.get_data_transformer_object()\n",
    "            \n",
    "            transformed_input_train_feature = preprocessor_obj.fit_transform(input_feature_train_df)       \n",
    "            transformed_input_test_feature = preprocessor_obj.transform(input_feature_test_df)                \n",
    "\n",
    "            smt = SMOTETomek(sampling_strategy='minority')  \n",
    "            logging.info(f\"Applying data balancer object on both train and test data\")         \n",
    "\n",
    "            input_feature_train_final, target_feature_train_final = smt.fit_resample(transformed_input_train_feature, target_feature_train_df)\n",
    "            input_feature_test_final, target_feature_test_final = smt.fit_resample(transformed_input_test_feature, target_feature_test_df)            \n",
    "\n",
    "            train_arr = np.c_[input_feature_train_final, np.array(target_feature_train_final)]\n",
    "            test_arr = np.c_[input_feature_test_final, np.array(target_feature_test_final)]\n",
    "\n",
    "            save_numpy_array(path=self.config.train_npy_file, array=train_arr )\n",
    "            save_numpy_array(path=self.config.test_npy_file, array=test_arr)                            \n",
    "            save_pickle(path= self.config.preprocessor_file, obj= preprocessor_obj)\n",
    "        \n",
    "        except Exception as e:\n",
    "            raise CustomException(e, sys)\n",
    "\n",
    "        "
   ]
  },
  {
   "cell_type": "code",
   "execution_count": 7,
   "metadata": {},
   "outputs": [],
   "source": [
    "import sys\n",
    "from sensorFaultDetection.exception import CustomException"
   ]
  },
  {
   "cell_type": "code",
   "execution_count": 8,
   "metadata": {},
   "outputs": [],
   "source": [
    "try:\n",
    "    config = ConfigurationManager()\n",
    "    data_transformation_config = config.get_data_transformation_config()\n",
    "    data_transformation = DataTransformation(config=data_transformation_config)\n",
    "    data_transformation.initiate_data_transformation()    \n",
    "except Exception as e:\n",
    "    CustomException(e, sys)"
   ]
  }
 ],
 "metadata": {
  "kernelspec": {
   "display_name": "venv",
   "language": "python",
   "name": "python3"
  },
  "language_info": {
   "codemirror_mode": {
    "name": "ipython",
    "version": 3
   },
   "file_extension": ".py",
   "mimetype": "text/x-python",
   "name": "python",
   "nbconvert_exporter": "python",
   "pygments_lexer": "ipython3",
   "version": "3.8.6"
  },
  "orig_nbformat": 4
 },
 "nbformat": 4,
 "nbformat_minor": 2
}
